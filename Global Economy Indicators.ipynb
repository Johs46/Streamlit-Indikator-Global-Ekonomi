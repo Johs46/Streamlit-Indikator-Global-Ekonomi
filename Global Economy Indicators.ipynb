{
 "cells": [
  {
   "cell_type": "code",
   "execution_count": 2,
   "metadata": {},
   "outputs": [
    {
     "name": "stdout",
     "output_type": "stream",
     "text": [
      "Country: Albania, Year: 2022\n",
      "Tahun tidak cocok dengan ketentuan. Silakan masukkan tahun antara 1970 dan 2021.\n"
     ]
    }
   ],
   "source": [
    "import pandas as pd\n",
    "\n",
    "\n",
    "filename = 'Global-Economy-Indicators FIX.csv'\n",
    "df = pd.read_csv(filename)\n",
    "\n",
    "df['Country'] = df['Country'].str.strip()\n",
    "df['Currency'] = df['Currency'].str.strip()\n",
    "\n",
    "country = input(\"Negara: \").strip()\n",
    "year = input(\"Tahun (1970-2021): \").strip()\n",
    "\n",
    "print(f\"Country: {country}, Year: {year}\")\n",
    "\n",
    "    # Check if the year input is within the valid range\n",
    "if year.isdigit() and 1970 <= int(year) <= 2021:\n",
    "        # Filter the DataFrame for the given country and year\n",
    "        country_data = df[(df['Country'] == country) & (df['Year'] == int(year))]\n",
    "        if not country_data.empty:\n",
    "            # Display the 'Population', 'Currency', and 'GNI' per capita\n",
    "            print(f\"Population: {country_data['Population'].values[0]}\")\n",
    "            print(f\"Currency: {country_data['Currency'].values[0]}\")\n",
    "            print(f\"Per capita GNI: {country_data['Per capita GNI'].values[0]}\")\n",
    "        else:\n",
    "            print(\"Data tidak ditemukan berdasarkan negara dan tahun.\")\n",
    "else:\n",
    "        print(\"Tahun tidak cocok dengan ketentuan. Silakan masukkan tahun antara 1970 dan 2021.\")"
   ]
  },
  {
   "cell_type": "markdown",
   "metadata": {},
   "source": [
    "# Save Model"
   ]
  },
  {
   "cell_type": "code",
   "execution_count": 5,
   "metadata": {},
   "outputs": [
    {
     "name": "stdout",
     "output_type": "stream",
     "text": [
      "Data berhasil disimpan ke file Global Economy Indicators.sav\n"
     ]
    }
   ],
   "source": [
    "import pandas as pd\n",
    "import pickle\n",
    "import os\n",
    "\n",
    "# Nama file CSV\n",
    "file_name = 'Global-Economy-Indicators FIX.csv'\n",
    "sav_file_name = 'Global Economy Indicators.sav'\n",
    "\n",
    "# Cek apakah file ada di direktori yang sama\n",
    "if os.path.exists(file_name):\n",
    "    try:\n",
    "        # Membaca file CSV\n",
    "        data = pd.read_csv(file_name)\n",
    "\n",
    "        # Mengecek apakah data kosong\n",
    "        if data.empty:\n",
    "            print(\"File CSV terbaca, tetapi tidak ada data.\")\n",
    "        else:\n",
    "            # Simpan DataFrame ke file .sav menggunakan pickle\n",
    "            with open(sav_file_name, 'wb') as file:\n",
    "                pickle.dump(data, file)\n",
    "            print(f\"Data berhasil disimpan ke file {sav_file_name}\")\n",
    "    except Exception as e:\n",
    "        print(f\"Terjadi kesalahan saat membaca file: {e}\")\n",
    "else:\n",
    "    print(f\"File tidak ditemukan di direktori yang sama: {file_name}\")"
   ]
  }
 ],
 "metadata": {
  "kernelspec": {
   "display_name": "Python 3",
   "language": "python",
   "name": "python3"
  },
  "language_info": {
   "codemirror_mode": {
    "name": "ipython",
    "version": 3
   },
   "file_extension": ".py",
   "mimetype": "text/x-python",
   "name": "python",
   "nbconvert_exporter": "python",
   "pygments_lexer": "ipython3",
   "version": "3.11.6"
  }
 },
 "nbformat": 4,
 "nbformat_minor": 2
}
